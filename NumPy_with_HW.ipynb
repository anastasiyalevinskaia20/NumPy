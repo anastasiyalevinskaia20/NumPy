{
 "cells": [
  {
   "cell_type": "markdown",
   "metadata": {},
   "source": [
    "# NumPy"
   ]
  },
  {
   "cell_type": "raw",
   "metadata": {},
   "source": [
    "Перед использованием пакет NumPy нужно импортировать c помощью комманд\n",
    "# import numpy\n",
    "# import numpy as np\n",
    "# from numpy import *"
   ]
  },
  {
   "cell_type": "code",
   "execution_count": 1,
   "metadata": {},
   "outputs": [],
   "source": [
    "import numpy as np"
   ]
  },
  {
   "cell_type": "code",
   "execution_count": 2,
   "metadata": {},
   "outputs": [
    {
     "data": {
      "text/plain": [
       "'1.16.2'"
      ]
     },
     "execution_count": 2,
     "metadata": {},
     "output_type": "execute_result"
    }
   ],
   "source": [
    "np.__version__"
   ]
  },
  {
   "cell_type": "markdown",
   "metadata": {},
   "source": [
    "## Массивы"
   ]
  },
  {
   "cell_type": "code",
   "execution_count": 3,
   "metadata": {},
   "outputs": [
    {
     "data": {
      "text/plain": [
       "array([1., 4., 5., 8.])"
      ]
     },
     "execution_count": 3,
     "metadata": {},
     "output_type": "execute_result"
    }
   ],
   "source": [
    "a = np.array([1, 4, 5, 8], float) #создание массива\n",
    "a"
   ]
  },
  {
   "cell_type": "code",
   "execution_count": 4,
   "metadata": {},
   "outputs": [
    {
     "data": {
      "text/plain": [
       "numpy.ndarray"
      ]
     },
     "execution_count": 4,
     "metadata": {},
     "output_type": "execute_result"
    }
   ],
   "source": [
    "type(a)"
   ]
  },
  {
   "cell_type": "code",
   "execution_count": null,
   "metadata": {},
   "outputs": [],
   "source": [
    "#действия с массивами аналогичны действия с обычными списками"
   ]
  },
  {
   "cell_type": "code",
   "execution_count": 5,
   "metadata": {},
   "outputs": [
    {
     "data": {
      "text/plain": [
       "array([1., 4.])"
      ]
     },
     "execution_count": 5,
     "metadata": {},
     "output_type": "execute_result"
    }
   ],
   "source": [
    "a[:2]"
   ]
  },
  {
   "cell_type": "code",
   "execution_count": 6,
   "metadata": {},
   "outputs": [
    {
     "data": {
      "text/plain": [
       "8.0"
      ]
     },
     "execution_count": 6,
     "metadata": {},
     "output_type": "execute_result"
    }
   ],
   "source": [
    "a[3]"
   ]
  },
  {
   "cell_type": "code",
   "execution_count": 7,
   "metadata": {},
   "outputs": [],
   "source": [
    "a[0] = 5. #присвоение значение элементу массива"
   ]
  },
  {
   "cell_type": "code",
   "execution_count": 8,
   "metadata": {},
   "outputs": [
    {
     "data": {
      "text/plain": [
       "array([5., 4., 5., 8.])"
      ]
     },
     "execution_count": 8,
     "metadata": {},
     "output_type": "execute_result"
    }
   ],
   "source": [
    "a"
   ]
  },
  {
   "cell_type": "code",
   "execution_count": 9,
   "metadata": {},
   "outputs": [],
   "source": [
    "a = np.array([[1, 2, 3], [4, 5, 6]], float) #массивы могут быть многомерными"
   ]
  },
  {
   "cell_type": "code",
   "execution_count": 10,
   "metadata": {},
   "outputs": [
    {
     "data": {
      "text/plain": [
       "array([4., 5., 6.])"
      ]
     },
     "execution_count": 10,
     "metadata": {},
     "output_type": "execute_result"
    }
   ],
   "source": [
    "a[1,:]"
   ]
  },
  {
   "cell_type": "code",
   "execution_count": 11,
   "metadata": {},
   "outputs": [
    {
     "data": {
      "text/plain": [
       "array([3., 6.])"
      ]
     },
     "execution_count": 11,
     "metadata": {},
     "output_type": "execute_result"
    }
   ],
   "source": [
    "a[:,2]"
   ]
  },
  {
   "cell_type": "code",
   "execution_count": 12,
   "metadata": {},
   "outputs": [
    {
     "data": {
      "text/plain": [
       "array([[5., 6.]])"
      ]
     },
     "execution_count": 12,
     "metadata": {},
     "output_type": "execute_result"
    }
   ],
   "source": [
    "a[-1:, -2:]"
   ]
  },
  {
   "cell_type": "code",
   "execution_count": null,
   "metadata": {},
   "outputs": [],
   "source": [
    "# У каждого n-мерного массива есть форма. \n",
    "# Например, форма матрицы (двумерного массива) из 3 строк и 5 колонок\n",
    "# — это (3, 5), \n",
    "# форма вектора (вертикального массива) из 10 элементов — это (10, 1)."
   ]
  },
  {
   "cell_type": "code",
   "execution_count": 13,
   "metadata": {},
   "outputs": [
    {
     "data": {
      "text/plain": [
       "(2, 3)"
      ]
     },
     "execution_count": 13,
     "metadata": {},
     "output_type": "execute_result"
    }
   ],
   "source": [
    "a.shape"
   ]
  },
  {
   "cell_type": "markdown",
   "metadata": {},
   "source": [
    "## Как создать массив стандартных типов"
   ]
  },
  {
   "cell_type": "code",
   "execution_count": null,
   "metadata": {},
   "outputs": [],
   "source": [
    "# eye(N, M=N, k=0) -- двумерный массив с N строками с единицами на диагонали и нулями во всех остальных позициях.\n",
    "# Число столбцов M по умолчанию равно N, k — сдвиг диагонали (0 для основной диагонали, положительные числа для верхних диагоналей и отрицательные для нижних),\n",
    "# zeros(shape) -- новый массив указанной формы, заполненный нулями,\n",
    "# ones(shape) -- новый массив указанной формы, заполненный единицами,\n",
    "# full(shape, fill_value) -- новый массив указанной формы, заполненный fill_value."
   ]
  },
  {
   "cell_type": "code",
   "execution_count": 14,
   "metadata": {},
   "outputs": [
    {
     "name": "stdout",
     "output_type": "stream",
     "text": [
      "[[0. 0. 0.]\n",
      " [1. 0. 0.]\n",
      " [0. 1. 0.]\n",
      " [0. 0. 1.]\n",
      " [0. 0. 0.]]\n"
     ]
    }
   ],
   "source": [
    "print(np.eye(5, 3, k=-1))"
   ]
  },
  {
   "cell_type": "code",
   "execution_count": null,
   "metadata": {},
   "outputs": [],
   "source": [
    "#      ДЗ (разминка)\n",
    "#Создайте и напечатайте (с помощью функции print) \n",
    "#массив класса np.ndarray ширины 4 и высоты 3\n",
    "#с двойками на главной диагонали и единицами на \n",
    "#первой диагонали над главной\n",
    "#Обратите внимание на то, что мы используем Python 3,\n",
    "#где print() принимает аргументы в скобках.\n",
    "#Подсказка: простым путём может быть использование\n",
    "#сложения и умножения на константу.\n",
    "#просто подставьте нужные значение вместо ..\n",
    "\n",
    "a = np.eye(.., .., k=..)\n",
    "b = np.eye(.., .., k=..)\n",
    "print(..+2*..)\n"
   ]
  },
  {
   "cell_type": "markdown",
   "metadata": {},
   "source": [
    "## Основные методы ndarray"
   ]
  },
  {
   "cell_type": "code",
   "execution_count": null,
   "metadata": {},
   "outputs": [],
   "source": [
    "# Для работы с многомерными массивами в NumPy реализованы самые\n",
    "# часто требующиеся операции. Некоторые из них \n",
    "# (которые особенно часто будут нужны в нашем курсе)мы сейчас покажем."
   ]
  },
  {
   "cell_type": "code",
   "execution_count": null,
   "metadata": {},
   "outputs": [],
   "source": [
    "# Форма массива\n",
    "# a.flatten() — превращает массив в одномерный.\n",
    "# a.T или a.transpose(*axes) — транспонирование (или смена порядка осей в случае, когда размерность массива больше двух).\n",
    "# a.reshape(shape) — смена формы массива. Массив \"распрямляется\" и построчно заполняется в новую форму."
   ]
  },
  {
   "cell_type": "code",
   "execution_count": 15,
   "metadata": {
    "scrolled": true
   },
   "outputs": [
    {
     "name": "stdout",
     "output_type": "stream",
     "text": [
      "[[[623 377 635]\n",
      "  [649 149 688]]\n",
      "\n",
      " [[  3 733  96]\n",
      "  [693 770 231]]]\n"
     ]
    }
   ],
   "source": [
    "import random\n",
    "w = np.array(random.sample(range(1000), 12)) \n",
    "# одномерный массив из 12 случайных чисел от 1 до 1000\n",
    "w = w.reshape((2,2,3)) # превратим w в трёхмерную матрицу\n",
    "print(w)"
   ]
  },
  {
   "cell_type": "code",
   "execution_count": 16,
   "metadata": {
    "scrolled": true
   },
   "outputs": [
    {
     "name": "stdout",
     "output_type": "stream",
     "text": [
      "[[[623 649]\n",
      "  [377 149]\n",
      "  [635 688]]\n",
      "\n",
      " [[  3 693]\n",
      "  [733 770]\n",
      "  [ 96 231]]]\n"
     ]
    }
   ],
   "source": [
    "mat = w.transpose(0,2,1)\n",
    "print(mat)"
   ]
  },
  {
   "cell_type": "code",
   "execution_count": null,
   "metadata": {},
   "outputs": [],
   "source": [
    "# ДЗ\n",
    "# Массив, который нужно было создать в предыдущей задаче\n",
    "# хранится в переменной mat. \n",
    "# Превратите его в вертикальный вектор и напечатайте\n",
    "\n",
    "w = mat.reshape(..,..,)\n",
    "print(w)"
   ]
  },
  {
   "cell_type": "markdown",
   "metadata": {},
   "source": [
    "## Основные методы ndarray "
   ]
  },
  {
   "cell_type": "code",
   "execution_count": null,
   "metadata": {},
   "outputs": [],
   "source": [
    "Базовые статистики\n",
    "\n",
    "# a.min(axis=None), a.max(axis=None), a.mean(axis=None), a.std(axis=None)\n",
    "# — минимум, максимум, среднее арифметическое и стандартное отклонение вдоль указанной оси. \n",
    "# По умолчанию ось не указана и статистика считается по всему массиву. \n",
    "# a.argmin(axis=None), a.argmax(axis=None)\n",
    "# — индексы минимального и максимального элемента"
   ]
  },
  {
   "cell_type": "code",
   "execution_count": 17,
   "metadata": {},
   "outputs": [
    {
     "name": "stdout",
     "output_type": "stream",
     "text": [
      "[[1 2 3 4]\n",
      " [1 2 3 4]\n",
      " [1 2 3 4]]\n"
     ]
    }
   ],
   "source": [
    "v = np.array([[1, 2, 3, 4], [1, 2, 3, 4], [1, 2, 3, 4]], int)\n",
    "print(v)"
   ]
  },
  {
   "cell_type": "code",
   "execution_count": 18,
   "metadata": {
    "scrolled": true
   },
   "outputs": [
    {
     "name": "stdout",
     "output_type": "stream",
     "text": [
      "[1. 2. 3. 4.]\n"
     ]
    }
   ],
   "source": [
    "print(v.mean(axis=0))  # вдоль столбцов"
   ]
  },
  {
   "cell_type": "code",
   "execution_count": 19,
   "metadata": {
    "scrolled": true
   },
   "outputs": [
    {
     "name": "stdout",
     "output_type": "stream",
     "text": [
      "[2.5 2.5 2.5]\n"
     ]
    }
   ],
   "source": [
    "print(v.mean(axis=1))  # вдоль строк"
   ]
  },
  {
   "cell_type": "code",
   "execution_count": 20,
   "metadata": {
    "scrolled": true
   },
   "outputs": [
    {
     "name": "stdout",
     "output_type": "stream",
     "text": [
      "2.5\n"
     ]
    }
   ],
   "source": [
    "print(v.mean(axis=None))  # вдоль всего массива"
   ]
  },
  {
   "cell_type": "code",
   "execution_count": null,
   "metadata": {},
   "outputs": [],
   "source": [
    "#Чтобы лучше понять, почему говорят «усреднение вдоль оси» — можно нарисовать эту матрицу на бумажке\n",
    "#и прямыми линиями соединить те элементы, которые сливаются в один при усреднении\n"
   ]
  },
  {
   "cell_type": "markdown",
   "metadata": {},
   "source": [
    "## Линейная алгебра"
   ]
  },
  {
   "cell_type": "code",
   "execution_count": null,
   "metadata": {},
   "outputs": [],
   "source": [
    "# Пакет numpy.linalg содержит большую часть стандартных операций и разложений матриц. \n",
    "# Некоторые самые популярные функции вынесены в корень пакета NumPy.\n",
    "# a.dot(b) — матричное произведение двух массивов (размерности должны быть согласованы),\n",
    "# linalg.matrix_power(M, n) — возведение матрицы M в степень n,\n",
    "# a.T — транспонирование\n",
    "# linalg.norm(a, ord=None) — норма матрицы a, по умолчанию норма Фробениуса для матриц и L2-норма для векторов;\n",
    "# linalg.inv(a) — матрица, обратная к a (если a необратима, выбрасывается LinAlgError; псевдообратная считается через linalg.pinv(a))"
   ]
  },
  {
   "cell_type": "code",
   "execution_count": 24,
   "metadata": {},
   "outputs": [
    {
     "name": "stdout",
     "output_type": "stream",
     "text": [
      "[[ 4  9 13 20]\n",
      " [ 5 11 16 25]\n",
      " [ 6 13 19 30]]\n"
     ]
    }
   ],
   "source": [
    "w = np.array([[1, 3], [1, 4],[1, 5]])\n",
    "a = w.dot([[1, 3, 4, 5], [1, 2, 3, 5]])\n",
    "print(a)"
   ]
  },
  {
   "cell_type": "markdown",
   "metadata": {},
   "source": [
    "## Как считать данные из файла:\n"
   ]
  },
  {
   "cell_type": "code",
   "execution_count": 25,
   "metadata": {},
   "outputs": [],
   "source": [
    " sbux = np.loadtxt(\"sbux.csv\", usecols=(0,1,4), skiprows=1, delimiter=\",\", \n",
    "                      dtype={'names': ('date', 'open', 'close'),\n",
    "                             'formats': ('datetime64[D]', 'f4', 'f4')})"
   ]
  },
  {
   "cell_type": "code",
   "execution_count": 26,
   "metadata": {},
   "outputs": [
    {
     "name": "stdout",
     "output_type": "stream",
     "text": [
      "[('2012-09-12', 50.99, 51.17) ('2012-09-11', 51.  , 50.73)\n",
      " ('2012-09-10', 51.18, 50.83) ('2012-09-07', 50.97, 51.17)]\n"
     ]
    }
   ],
   "source": [
    "print(sbux[0:4])"
   ]
  },
  {
   "cell_type": "code",
   "execution_count": null,
   "metadata": {},
   "outputs": [],
   "source": [
    "Здесь использованы не все параметры функции loadtxt (полный их список можно посмотреть в справке).\n",
    "Разберём имеющиеся, так как они являются наиболее часто встречающимися.\n",
    "\"sbux.csv\" — имя файла (или сюда же можно передать объект файла, \n",
    "                        такой пример вы увидите в следующей задаче урока), из которого считываются данные.\n",
    "usecols — список колонок, которые нужно использовать. Если параметр не указан, считываются все колонки.\n",
    "skiprows — количество рядов в начале файла, которые нужно пропустить. В нашем случае пропущен ряд заголовков. \n",
    "По умолчанию (если значение параметра не указано явно) skiprows = 0.\n",
    "delimiter — разделитель столбцов в одной строке, в csv-файлах это запятая,\n",
    "по умолчанию разделителем является любой пробел (в том числе — знак табуляции).\n",
    "dtype — словарь из названий колонок (переменных) и типов хранящихся в них значений. \n",
    "NumPy использует свою собственную систему типов, и названия именно этих типов нужно указать. \n",
    "По умолчанию функция попытается самостоятельно угадать, какому типу принадлежат подаваемые на вход значения."
   ]
  },
  {
   "cell_type": "code",
   "execution_count": null,
   "metadata": {},
   "outputs": [],
   "source": [
    "#ДЗ\n",
    "Задача: считайте данные из файла boston_houses.csv и посчитайте их средние значения.\n",
    "\n",
    "Файл, из которого нужно считать данные, находится локально,\n",
    "Первая строчка в файле — названия столбцов, \n",
    "остальные строки — числовые данные (то есть каждая строка, кроме первой,\n",
    "состоит из последовательности вещественных чисел, разделённых запятыми).\n",
    "\n",
    "Посчитайте и напечатайте вектор из средних значений вдоль столбцов входных данных. \n",
    "То есть если файл с входными данными выглядит как\n",
    "\n",
    "a,b,c,d\n",
    "1.5,3,4,6\n",
    "2.5,2,7.5,4\n",
    "3.5,1,3.5,2\n",
    "\n",
    "то ответом будет\n",
    "\n",
    "[ 2.5  2.   5.   4. ]"
   ]
  },
  {
   "cell_type": "code",
   "execution_count": null,
   "metadata": {},
   "outputs": [],
   "source": [
    "#вставьте свой код здесь"
   ]
  }
 ],
 "metadata": {
  "kernelspec": {
   "display_name": "Python 3",
   "language": "python",
   "name": "python3"
  },
  "language_info": {
   "codemirror_mode": {
    "name": "ipython",
    "version": 3
   },
   "file_extension": ".py",
   "mimetype": "text/x-python",
   "name": "python",
   "nbconvert_exporter": "python",
   "pygments_lexer": "ipython3",
   "version": "3.7.1"
  }
 },
 "nbformat": 4,
 "nbformat_minor": 2
}
